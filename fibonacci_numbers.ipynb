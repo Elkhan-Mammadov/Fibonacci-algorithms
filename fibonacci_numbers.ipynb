{
 "cells": [
  {
   "cell_type": "code",
   "execution_count": 1,
   "id": "664c78b2",
   "metadata": {},
   "outputs": [
    {
     "name": "stdout",
     "output_type": "stream",
     "text": [
      "Fibonacci numbers : 0,1,1,2,3,5,8,13,21,34\n"
     ]
    }
   ],
   "source": [
    "num_1=0\n",
    "num_2=1\n",
    "fib_count=10\n",
    "fib_row=[]\n",
    "for i in range(fib_count):\n",
    "    fib_row.append(str(num_1))\n",
    "    num_3=num_1+num_2\n",
    "    num_1=num_2\n",
    "    num_2=num_3\n",
    " \n",
    "print('Fibonacci numbers : '+','.join(fib_row) )  "
   ]
  }
 ],
 "metadata": {
  "kernelspec": {
   "display_name": "Python 3",
   "language": "python",
   "name": "python3"
  },
  "language_info": {
   "codemirror_mode": {
    "name": "ipython",
    "version": 3
   },
   "file_extension": ".py",
   "mimetype": "text/x-python",
   "name": "python",
   "nbconvert_exporter": "python",
   "pygments_lexer": "ipython3",
   "version": "3.13.0"
  }
 },
 "nbformat": 4,
 "nbformat_minor": 5
}
